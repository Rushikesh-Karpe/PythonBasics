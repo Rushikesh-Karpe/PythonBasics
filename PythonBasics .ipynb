{
  "nbformat": 4,
  "nbformat_minor": 0,
  "metadata": {
    "colab": {
      "provenance": []
    },
    "kernelspec": {
      "name": "python3",
      "display_name": "Python 3"
    },
    "language_info": {
      "name": "python"
    }
  },
  "cells": [
    {
      "cell_type": "code",
      "execution_count": null,
      "metadata": {
        "id": "eODtjpPYTLhh"
      },
      "outputs": [],
      "source": []
    },
    {
      "cell_type": "markdown",
      "source": [
        "#Python Basics\n"
      ],
      "metadata": {
        "id": "NXzRb1GFTWah"
      }
    },
    {
      "cell_type": "markdown",
      "source": [
        "1. What is Python, and why is it popular?\n",
        "  - Python is a high-level, interpreted programming language known for its simplicity and readability. It is popular because of its vast libraries, ease of learning, and versatility in applications like web development, data science, AI, and scripting.\n",
        "2. What is an interpreter in Python?\n",
        "    - An interpreter is a program that executes Python code line by line, converting it into machine code that can be executed by the computer.\n",
        "\n",
        "3. What are pre-defined keywords in Python?\n",
        " - Keywords are reserved words in Python that have a special meaning, like if, else, for, while, True, False.\n",
        "\n",
        "4. Can keywords be used as variable names?\n",
        " - No, keywords cannot be used as variable names because they are reserved for specific functionalities.\n",
        "\n",
        "5. What is mutability in Python?                                          \n",
        "  - Mutability refers to the ability of an object to be changed after its creation. For example, lists are mutable, whereas tuples are immutable.\n",
        "\n",
        "6. Why are lists mutable, but tuples are immutable?\n",
        "  -  Lists allow modification like appending or deleting elements, but tuples are designed to be static, making them safer to use in certain scenarios.\n",
        "\n",
        "7. What is the difference between == and is operators in Python?\n",
        "\n",
        "  - == checks for value equality. is checks for object identity (if two objects are the same in memory).\n",
        "8. What are logical operators in Python?\n",
        " - Logical operators include and, or, and not, used to perform logical operations.\n",
        "\n",
        "9. What is type casting in Python?\n",
        " - Type casting converts one data type to another, such as string to integer.\n",
        "\n",
        "10. What is the difference between implicit and explicit type casting?\n",
        "  - Implicit: Done automatically by Python (e.g., float to integer).\n",
        "Explicit: Requires manual conversion (e.g., int('123')).\n",
        "11. What is the purpose of conditional statements in Python?\n",
        "  - Conditional statements allow decisions in the code, executing different blocks of code based on conditions.\n",
        "\n",
        "12. How does the elif statement work?\n",
        "  - It allows checking multiple conditions after an if statement, executing the first elif block that evaluates to True.\n",
        "\n",
        "13. What is the difference between for and while loops?\n",
        "  - for: Iterates over a sequence.\n",
        "while: Continues until a condition becomes false.\n",
        "14. Describe a scenario where a while loop is more suitable than a for loop.\n",
        "  - When the number of iterations is not predetermined (e.g., waiting for user input).\n",
        "\n",
        "\n"
      ],
      "metadata": {
        "id": "qOJFyg4ETv0X"
      }
    },
    {
      "cell_type": "code",
      "source": [
        "print(\"Hello, World!\")\n"
      ],
      "metadata": {
        "colab": {
          "base_uri": "https://localhost:8080/"
        },
        "id": "DWcCqLlxdFUF",
        "outputId": "646e4dad-2db2-4966-b323-89d164a7c9ff"
      },
      "execution_count": 1,
      "outputs": [
        {
          "output_type": "stream",
          "name": "stdout",
          "text": [
            "Hello, World!\n"
          ]
        }
      ]
    },
    {
      "cell_type": "code",
      "source": [
        "name = \"Rushikesh Karpe\"\n",
        "age = 27\n",
        "print(f\"My name is {name} and I am {age} years old.\")\n"
      ],
      "metadata": {
        "colab": {
          "base_uri": "https://localhost:8080/"
        },
        "id": "O4WdR1OLdXUz",
        "outputId": "140d4d3e-1855-44b4-fffc-cf5d4795a0fb"
      },
      "execution_count": 2,
      "outputs": [
        {
          "output_type": "stream",
          "name": "stdout",
          "text": [
            "My name is Rushikesh Karpe and I am 27 years old.\n"
          ]
        }
      ]
    },
    {
      "cell_type": "code",
      "source": [
        "import keyword\n",
        "print(keyword.kwlist)\n"
      ],
      "metadata": {
        "colab": {
          "base_uri": "https://localhost:8080/"
        },
        "id": "KW1lD6_-dtGc",
        "outputId": "a41c00e3-7f08-418d-8ae9-e6f1e76cdb53"
      },
      "execution_count": 3,
      "outputs": [
        {
          "output_type": "stream",
          "name": "stdout",
          "text": [
            "['False', 'None', 'True', 'and', 'as', 'assert', 'async', 'await', 'break', 'class', 'continue', 'def', 'del', 'elif', 'else', 'except', 'finally', 'for', 'from', 'global', 'if', 'import', 'in', 'is', 'lambda', 'nonlocal', 'not', 'or', 'pass', 'raise', 'return', 'try', 'while', 'with', 'yield']\n"
          ]
        }
      ]
    },
    {
      "cell_type": "code",
      "source": [
        "word = \"for\"\n",
        "print(f\"{word} is a keyword: {keyword.iskeyword(word)}\")\n"
      ],
      "metadata": {
        "colab": {
          "base_uri": "https://localhost:8080/"
        },
        "id": "LCW9j3XRd1nu",
        "outputId": "351da316-0f20-45fd-d63d-1ea545f5ed47"
      },
      "execution_count": 4,
      "outputs": [
        {
          "output_type": "stream",
          "name": "stdout",
          "text": [
            "for is a keyword: True\n"
          ]
        }
      ]
    },
    {
      "cell_type": "code",
      "source": [
        "my_list = [1, 2, 3]\n",
        "my_tuple = (1, 2, 3)\n",
        "\n",
        "my_list[0] = 0  # Allowed\n",
        "# my_tuple[0] = 0  # Raises an error\n",
        "\n"
      ],
      "metadata": {
        "id": "2mIm1A6AeDed"
      },
      "execution_count": 10,
      "outputs": []
    },
    {
      "cell_type": "code",
      "source": [
        "def demo_mutable_immutable(arg1, arg2):\n",
        "    arg1.append(100)  # List is mutable\n",
        "    arg2 += 100       # Integer is immutable\n"
      ],
      "metadata": {
        "id": "sRH04ZSjeJ7R"
      },
      "execution_count": 11,
      "outputs": []
    },
    {
      "cell_type": "code",
      "source": [
        "def demo_mutable_immutable(arg1, arg2):\n",
        "    arg1.append(100)  # List is mutable\n",
        "    arg2 += 100       # Integer is immutable\n",
        "\n"
      ],
      "metadata": {
        "id": "CHrQOz3Tebj_"
      },
      "execution_count": 17,
      "outputs": []
    },
    {
      "cell_type": "code",
      "source": [
        "x, y = True, False\n",
        "print(x and y, x or y, not x)\n"
      ],
      "metadata": {
        "colab": {
          "base_uri": "https://localhost:8080/"
        },
        "id": "0o0PE_jjekNy",
        "outputId": "9d19afa8-4934-4182-e2ba-af584e131e92"
      },
      "execution_count": 15,
      "outputs": [
        {
          "output_type": "stream",
          "name": "stdout",
          "text": [
            "False True False\n"
          ]
        }
      ]
    },
    {
      "cell_type": "code",
      "source": [
        "value = input(\"Enter a value: \")\n",
        "print(int(value), float(value), bool(value))\n"
      ],
      "metadata": {
        "id": "Rq62Awmtexlh"
      },
      "execution_count": null,
      "outputs": []
    },
    {
      "cell_type": "code",
      "source": [
        "my_list = [\"1\", \"2\", \"3\"]\n",
        "my_list = [int(x) for x in my_list]\n",
        "print(my_list)\n"
      ],
      "metadata": {
        "id": "TEyaGhWwe4bc"
      },
      "execution_count": null,
      "outputs": []
    },
    {
      "cell_type": "code",
      "source": [
        "num = int(input(\"Enter a number: \"))\n",
        "if num > 0:\n",
        "    print(\"Positive\")\n",
        "elif num < 0:\n",
        "    print(\"Negative\")\n",
        "else:\n",
        "    print(\"Zero\")\n"
      ],
      "metadata": {
        "id": "l14TxtBmfGXb"
      },
      "execution_count": null,
      "outputs": []
    },
    {
      "cell_type": "code",
      "source": [
        "for i in range(1, 11):\n",
        "    print(i)\n"
      ],
      "metadata": {
        "id": "rB66hzqAfOKO"
      },
      "execution_count": null,
      "outputs": []
    },
    {
      "cell_type": "code",
      "source": [
        "print(sum(x for x in range(1, 51) if x % 2 == 0))\n"
      ],
      "metadata": {
        "id": "hm1f1qUJhPPB"
      },
      "execution_count": null,
      "outputs": []
    },
    {
      "cell_type": "code",
      "source": [
        "string = \"hello\"\n",
        "reversed_string = \"\"\n",
        "i = len(string) - 1\n",
        "while i >= 0:\n",
        "    reversed_string += string[i]\n",
        "    i -= 1\n",
        "print(reversed_string)\n"
      ],
      "metadata": {
        "id": "0d38yEByhSbQ"
      },
      "execution_count": null,
      "outputs": []
    },
    {
      "cell_type": "code",
      "source": [
        "num = int(input(\"Enter a number: \"))\n",
        "factorial = 1\n",
        "while num > 0:\n",
        "    factorial *= num\n",
        "    num -= 1\n",
        "print(factorial)\n"
      ],
      "metadata": {
        "id": "yNsg2zaDheqh"
      },
      "execution_count": null,
      "outputs": []
    }
  ]
}